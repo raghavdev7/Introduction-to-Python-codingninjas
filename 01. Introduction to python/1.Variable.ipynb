{
 "cells": [
  {
   "cell_type": "markdown",
   "id": "fcb5f898",
   "metadata": {},
   "source": [
    "### Print helloword"
   ]
  },
  {
   "cell_type": "code",
   "execution_count": 1,
   "id": "7f931923",
   "metadata": {},
   "outputs": [
    {
     "name": "stdout",
     "output_type": "stream",
     "text": [
      "Hello\n",
      "HEllo\n"
     ]
    }
   ],
   "source": [
    "\n",
    "print(\"Hello\")\n",
    "print(\"HEllo\")\n"
   ]
  },
  {
   "cell_type": "markdown",
   "id": "edb7b75d",
   "metadata": {},
   "source": [
    "###  variables\n",
    "\n"
   ]
  },
  {
   "cell_type": "code",
   "execution_count": 4,
   "id": "66e67dbb",
   "metadata": {},
   "outputs": [
    {
     "data": {
      "text/plain": [
       "30"
      ]
     },
     "execution_count": 4,
     "metadata": {},
     "output_type": "execute_result"
    }
   ],
   "source": [
    "a=10\n",
    "b=20\n",
    "a+b"
   ]
  },
  {
   "cell_type": "code",
   "execution_count": 5,
   "id": "13d4d472",
   "metadata": {},
   "outputs": [
    {
     "name": "stdout",
     "output_type": "stream",
     "text": [
      "30\n"
     ]
    }
   ],
   "source": [
    "a=10\n",
    "b=20\n",
    "sum= a + b\n",
    "print(sum)"
   ]
  },
  {
   "cell_type": "markdown",
   "id": "db3f0714",
   "metadata": {},
   "source": [
    "## variable naming \n",
    "it can not start with no\n",
    "\n"
   ]
  },
  {
   "cell_type": "code",
   "execution_count": null,
   "id": "e2941b3d",
   "metadata": {},
   "outputs": [],
   "source": [
    "_ab=10\n",
    "C22b=20\n",
    "# 12cd=20\n"
   ]
  },
  {
   "cell_type": "markdown",
   "id": "cfb93ef7",
   "metadata": {},
   "source": [
    "python stores the address of new storage means whnever the new value is given it will store the address of that variable\n"
   ]
  },
  {
   "cell_type": "markdown",
   "id": "b55553dc",
   "metadata": {},
   "source": [
    "### assigning differnet types of data to variable"
   ]
  },
  {
   "cell_type": "code",
   "execution_count": 15,
   "id": "a900009c",
   "metadata": {},
   "outputs": [
    {
     "data": {
      "text/plain": [
       "'goat'"
      ]
     },
     "execution_count": 15,
     "metadata": {},
     "output_type": "execute_result"
    }
   ],
   "source": [
    "a=10\n",
    "a=28\n",
    "a=\"goat\"\n",
    "a"
   ]
  },
  {
   "cell_type": "code",
   "execution_count": 17,
   "id": "8cadf724",
   "metadata": {},
   "outputs": [
    {
     "name": "stdout",
     "output_type": "stream",
     "text": [
      "<class 'int'>\n",
      "<class 'str'>\n",
      "<class 'float'>\n"
     ]
    }
   ],
   "source": [
    "a=10\n",
    "print(type(a))\n",
    "b=\"coding\"\n",
    "print(type(b))\n",
    "c=0.345\n",
    "print(type(c))"
   ]
  },
  {
   "cell_type": "code",
   "execution_count": 20,
   "id": "6bc0f9aa",
   "metadata": {},
   "outputs": [
    {
     "name": "stdout",
     "output_type": "stream",
     "text": [
      "sab\n"
     ]
    }
   ],
   "source": [
    "a= 10\n",
    "a=\"sab\"\n",
    "print(a)"
   ]
  },
  {
   "cell_type": "code",
   "execution_count": 21,
   "id": "54f79d22",
   "metadata": {},
   "outputs": [
    {
     "data": {
      "text/plain": [
       "str"
      ]
     },
     "execution_count": 21,
     "metadata": {},
     "output_type": "execute_result"
    }
   ],
   "source": [
    "a=10\n",
    "a=\"suna h\"  \n",
    "type(a)"
   ]
  }
 ],
 "metadata": {
  "kernelspec": {
   "display_name": "Python 3 (ipykernel)",
   "language": "python",
   "name": "python3"
  },
  "language_info": {
   "codemirror_mode": {
    "name": "ipython",
    "version": 3
   },
   "file_extension": ".py",
   "mimetype": "text/x-python",
   "name": "python",
   "nbconvert_exporter": "python",
   "pygments_lexer": "ipython3",
   "version": "3.9.13"
  }
 },
 "nbformat": 4,
 "nbformat_minor": 5
}
