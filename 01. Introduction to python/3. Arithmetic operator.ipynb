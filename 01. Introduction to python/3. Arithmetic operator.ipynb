{
 "cells": [
  {
   "cell_type": "markdown",
   "id": "6767268a",
   "metadata": {},
   "source": [
    "### Arithmetic operator"
   ]
  },
  {
   "cell_type": "code",
   "execution_count": 3,
   "id": "c230f351",
   "metadata": {},
   "outputs": [
    {
     "data": {
      "text/plain": [
       "15"
      ]
     },
     "execution_count": 3,
     "metadata": {},
     "output_type": "execute_result"
    }
   ],
   "source": [
    "a = 10 + 5\n",
    "a"
   ]
  },
  {
   "cell_type": "code",
   "execution_count": 10,
   "id": "e140c183",
   "metadata": {},
   "outputs": [
    {
     "name": "stdout",
     "output_type": "stream",
     "text": [
      "30\n",
      "10\n"
     ]
    }
   ],
   "source": [
    "a= 20\n",
    "b= 10 \n",
    "print(a+b)\n",
    "print(a-b)"
   ]
  },
  {
   "cell_type": "code",
   "execution_count": 8,
   "id": "2a0c72bb",
   "metadata": {},
   "outputs": [
    {
     "data": {
      "text/plain": [
       "200"
      ]
     },
     "execution_count": 8,
     "metadata": {},
     "output_type": "execute_result"
    }
   ],
   "source": [
    "a*b"
   ]
  },
  {
   "cell_type": "code",
   "execution_count": 11,
   "id": "51e7ed53",
   "metadata": {},
   "outputs": [
    {
     "data": {
      "text/plain": [
       "2.0"
      ]
     },
     "execution_count": 11,
     "metadata": {},
     "output_type": "execute_result"
    }
   ],
   "source": [
    "a/b"
   ]
  },
  {
   "cell_type": "code",
   "execution_count": 12,
   "id": "9fc9ee02",
   "metadata": {},
   "outputs": [
    {
     "data": {
      "text/plain": [
       "2"
      ]
     },
     "execution_count": 12,
     "metadata": {},
     "output_type": "execute_result"
    }
   ],
   "source": [
    "a//b  # integer division"
   ]
  },
  {
   "cell_type": "code",
   "execution_count": 14,
   "id": "357c883c",
   "metadata": {},
   "outputs": [
    {
     "data": {
      "text/plain": [
       "10000"
      ]
     },
     "execution_count": 14,
     "metadata": {},
     "output_type": "execute_result"
    }
   ],
   "source": [
    "a=10\n",
    "b=4\n",
    "a**b   #power"
   ]
  },
  {
   "cell_type": "code",
   "execution_count": 15,
   "id": "dda78bd1",
   "metadata": {},
   "outputs": [
    {
     "data": {
      "text/plain": [
       "2"
      ]
     },
     "execution_count": 15,
     "metadata": {},
     "output_type": "execute_result"
    }
   ],
   "source": [
    "a % b  #remainder"
   ]
  },
  {
   "cell_type": "code",
   "execution_count": 16,
   "id": "9e1d2ced",
   "metadata": {},
   "outputs": [
    {
     "data": {
      "text/plain": [
       "14"
      ]
     },
     "execution_count": 16,
     "metadata": {},
     "output_type": "execute_result"
    }
   ],
   "source": [
    "2 + (3*4)"
   ]
  },
  {
   "cell_type": "code",
   "execution_count": 17,
   "id": "65a368ba",
   "metadata": {},
   "outputs": [
    {
     "data": {
      "text/plain": [
       "1.5"
      ]
     },
     "execution_count": 17,
     "metadata": {},
     "output_type": "execute_result"
    }
   ],
   "source": [
    "2 * 3 / 4  # doesnt matter what operation is done first"
   ]
  },
  {
   "cell_type": "code",
   "execution_count": 20,
   "id": "35457b08",
   "metadata": {},
   "outputs": [
    {
     "data": {
      "text/plain": [
       "1"
      ]
     },
     "execution_count": 20,
     "metadata": {},
     "output_type": "execute_result"
    }
   ],
   "source": [
    "2 * 3//4 "
   ]
  },
  {
   "cell_type": "code",
   "execution_count": 22,
   "id": "3e6fe12a",
   "metadata": {},
   "outputs": [
    {
     "data": {
      "text/plain": [
       "24"
      ]
     },
     "execution_count": 22,
     "metadata": {},
     "output_type": "execute_result"
    }
   ],
   "source": [
    "# simple interest\n",
    "p = 100\n",
    "r = 12\n",
    "t = 2\n",
    "# SI = p*r*t//100\n",
    "# SI = t//100 * r * t\n",
    "SI = (p * r *t)//100\n",
    "SI"
   ]
  },
  {
   "cell_type": "code",
   "execution_count": 23,
   "id": "64258cfe",
   "metadata": {},
   "outputs": [
    {
     "name": "stdout",
     "output_type": "stream",
     "text": [
      "37.77777777777778\n",
      "37\n"
     ]
    }
   ],
   "source": [
    "#fah to celsius conversion\n",
    "\n",
    "f = 100\n",
    "c = (f -32) * 5/9\n",
    "print(c)\n",
    "ci = (f -32) * 5//9\n",
    "print(ci)"
   ]
  }
 ],
 "metadata": {
  "kernelspec": {
   "display_name": "Python 3 (ipykernel)",
   "language": "python",
   "name": "python3"
  },
  "language_info": {
   "codemirror_mode": {
    "name": "ipython",
    "version": 3
   },
   "file_extension": ".py",
   "mimetype": "text/x-python",
   "name": "python",
   "nbconvert_exporter": "python",
   "pygments_lexer": "ipython3",
   "version": "3.9.13"
  }
 },
 "nbformat": 4,
 "nbformat_minor": 5
}
