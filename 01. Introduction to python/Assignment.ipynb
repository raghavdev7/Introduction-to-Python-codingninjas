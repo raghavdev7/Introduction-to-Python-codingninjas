{
 "cells": [
  {
   "cell_type": "markdown",
   "id": "c8921eb5",
   "metadata": {},
   "source": [
    "### Average marks"
   ]
  },
  {
   "cell_type": "code",
   "execution_count": 1,
   "id": "d13c0ebc",
   "metadata": {},
   "outputs": [
    {
     "name": "stdout",
     "output_type": "stream",
     "text": [
      "2\n",
      "3\n",
      "6\n",
      "3.6666666666666665\n"
     ]
    }
   ],
   "source": [
    "marks_1 = int(input())\n",
    "marks_2 = int(input())\n",
    "marks_3 = int(input())\n",
    "\n",
    "avg = (marks_1 + marks_2 + marks_3) / 3\n",
    "\n",
    "print(avg)\n"
   ]
  },
  {
   "cell_type": "markdown",
   "id": "7834b583",
   "metadata": {},
   "source": [
    " ### find X raise to power N"
   ]
  },
  {
   "cell_type": "code",
   "execution_count": 2,
   "id": "103476c4",
   "metadata": {},
   "outputs": [
    {
     "name": "stdout",
     "output_type": "stream",
     "text": [
      "2\n",
      "5\n",
      "32\n"
     ]
    }
   ],
   "source": [
    "X=int(input())\n",
    "N=int(input())\n",
    "\n",
    "A=X**N\n",
    "print(A)"
   ]
  },
  {
   "cell_type": "markdown",
   "id": "fd2a6884",
   "metadata": {},
   "source": [
    "### Aritmetic progresssion\n"
   ]
  },
  {
   "cell_type": "code",
   "execution_count": 4,
   "id": "9f3d405e",
   "metadata": {},
   "outputs": [
    {
     "name": "stdout",
     "output_type": "stream",
     "text": [
      "1\n",
      "3\n",
      "5\n",
      "2\n"
     ]
    }
   ],
   "source": [
    "a= int(input())\n",
    "b= int(input())\n",
    "c= int(input())\n",
    "d= b-a\n",
    "print(d)"
   ]
  },
  {
   "cell_type": "markdown",
   "id": "a4704d8e",
   "metadata": {},
   "source": [
    "### area of rectangle"
   ]
  },
  {
   "cell_type": "code",
   "execution_count": 5,
   "id": "4d6d3769",
   "metadata": {},
   "outputs": [
    {
     "name": "stdout",
     "output_type": "stream",
     "text": [
      "1\n",
      "1\n",
      "3\n",
      "3\n",
      "4\n"
     ]
    }
   ],
   "source": [
    "x1=int(input())\n",
    "y1=int(input())\n",
    "x2=int(input())\n",
    "y2=int(input())\n",
    "area=(x2-x1)*(y2-y1)\n",
    "print (area)"
   ]
  }
 ],
 "metadata": {
  "kernelspec": {
   "display_name": "Python 3 (ipykernel)",
   "language": "python",
   "name": "python3"
  },
  "language_info": {
   "codemirror_mode": {
    "name": "ipython",
    "version": 3
   },
   "file_extension": ".py",
   "mimetype": "text/x-python",
   "name": "python",
   "nbconvert_exporter": "python",
   "pygments_lexer": "ipython3",
   "version": "3.9.13"
  }
 },
 "nbformat": 4,
 "nbformat_minor": 5
}
