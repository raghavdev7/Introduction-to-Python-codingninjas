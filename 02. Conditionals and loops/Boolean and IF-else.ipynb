{
 "cells": [
  {
   "cell_type": "markdown",
   "id": "e47bf620",
   "metadata": {},
   "source": [
    "### Boolean "
   ]
  },
  {
   "cell_type": "code",
   "execution_count": 1,
   "id": "81b1672b",
   "metadata": {},
   "outputs": [
    {
     "data": {
      "text/plain": [
       "bool"
      ]
     },
     "execution_count": 1,
     "metadata": {},
     "output_type": "execute_result"
    }
   ],
   "source": [
    "a = True\n",
    "b = False\n",
    "c = True\n",
    "type(c)"
   ]
  },
  {
   "cell_type": "markdown",
   "id": "c3a48da7",
   "metadata": {},
   "source": [
    "### Relation operators"
   ]
  },
  {
   "cell_type": "code",
   "execution_count": 4,
   "id": "9cde396a",
   "metadata": {},
   "outputs": [
    {
     "name": "stdout",
     "output_type": "stream",
     "text": [
      "False\n",
      "False\n",
      "True\n",
      "True\n",
      "False\n",
      "True\n"
     ]
    }
   ],
   "source": [
    "a = 10\n",
    "b = 20\n",
    "print(a>b)\n",
    "print(a>=b)\n",
    "print(a<b)\n",
    "print(a<=b)\n",
    "print(a==b) \n",
    "print(a!=b)"
   ]
  },
  {
   "cell_type": "markdown",
   "id": "c67d524c",
   "metadata": {},
   "source": [
    "### logical operator"
   ]
  },
  {
   "cell_type": "code",
   "execution_count": 8,
   "id": "920449f1",
   "metadata": {},
   "outputs": [
    {
     "name": "stdout",
     "output_type": "stream",
     "text": [
      "False\n",
      "True\n",
      "True\n"
     ]
    }
   ],
   "source": [
    "c1 = a > 10\n",
    "c2 = b > 10\n",
    "r1 = c1 and c2\n",
    "r2 = c1 or c2\n",
    "r3 = not(c1)\n",
    "print(r1)\n",
    "print(r2)\n",
    "print(r3)"
   ]
  },
  {
   "cell_type": "markdown",
   "id": "0a80b569",
   "metadata": {},
   "source": [
    "### IF - Else"
   ]
  },
  {
   "cell_type": "code",
   "execution_count": 11,
   "id": "6bb7d826",
   "metadata": {},
   "outputs": [
    {
     "name": "stdout",
     "output_type": "stream",
     "text": [
      "I am inside if\n"
     ]
    }
   ],
   "source": [
    "a = True\n",
    "if a:\n",
    "    print(\"I am inside if\")\n",
    "else:\n",
    "    print(\"I am inside else\")"
   ]
  },
  {
   "cell_type": "code",
   "execution_count": 12,
   "id": "eedd7681",
   "metadata": {},
   "outputs": [
    {
     "name": "stdout",
     "output_type": "stream",
     "text": [
      "I am inside else\n"
     ]
    }
   ],
   "source": [
    "a= False\n",
    "if a:\n",
    "    print(\"I am inside if\")\n",
    "    print(\"I am inside if2\")\n",
    "else:\n",
    "    print(\"I am inside else\")"
   ]
  },
  {
   "cell_type": "code",
   "execution_count": 19,
   "id": "0d5a0e44",
   "metadata": {},
   "outputs": [
    {
     "name": "stdout",
     "output_type": "stream",
     "text": [
      "3\n",
      "no is odd\n"
     ]
    }
   ],
   "source": [
    "# check no is even or odd\n",
    "\n",
    "n = int(input())\n",
    "r = n%2\n",
    "is_even = (r==0)\n",
    "if is_even:\n",
    "    print(\"no is even\")\n",
    "else:\n",
    "        print(\"no is odd\")"
   ]
  },
  {
   "cell_type": "code",
   "execution_count": 20,
   "id": "40d38427",
   "metadata": {},
   "outputs": [
    {
     "name": "stdout",
     "output_type": "stream",
     "text": [
      "3\n",
      "no is odd\n"
     ]
    }
   ],
   "source": [
    "n = int(input())\n",
    "is_even = (n%2==0)\n",
    "if is_even:\n",
    "    print(\"no is even\")\n",
    "else:\n",
    "        print(\"no is odd\")"
   ]
  },
  {
   "cell_type": "code",
   "execution_count": 22,
   "id": "600914c2",
   "metadata": {},
   "outputs": [
    {
     "name": "stdout",
     "output_type": "stream",
     "text": [
      "2\n",
      "no is even\n"
     ]
    }
   ],
   "source": [
    "n = int(input())\n",
    "if n%2==0:\n",
    "    print(\"no is even\")\n",
    "else:\n",
    "        print(\"no is odd\")"
   ]
  },
  {
   "cell_type": "code",
   "execution_count": 23,
   "id": "dcfa0361",
   "metadata": {},
   "outputs": [
    {
     "name": "stdout",
     "output_type": "stream",
     "text": [
      "hi\n",
      "hey\n"
     ]
    }
   ],
   "source": [
    "x = 5\n",
    "if x<6:\n",
    "    print(\"hi\")\n",
    "if x==5:\n",
    "    print(\"hey\")\n",
    "else:\n",
    "    print(\"hello\")"
   ]
  }
 ],
 "metadata": {
  "kernelspec": {
   "display_name": "Python 3 (ipykernel)",
   "language": "python",
   "name": "python3"
  },
  "language_info": {
   "codemirror_mode": {
    "name": "ipython",
    "version": 3
   },
   "file_extension": ".py",
   "mimetype": "text/x-python",
   "name": "python",
   "nbconvert_exporter": "python",
   "pygments_lexer": "ipython3",
   "version": "3.9.13"
  }
 },
 "nbformat": 4,
 "nbformat_minor": 5
}
